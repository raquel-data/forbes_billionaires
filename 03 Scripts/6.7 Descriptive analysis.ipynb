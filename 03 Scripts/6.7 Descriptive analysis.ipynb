{
 "cells": [
  {
   "cell_type": "markdown",
   "id": "4131ae24",
   "metadata": {},
   "source": [
    "### Table of contents\n",
    "# 7. Exploratory data analysis\n",
    "### 7.1 Import assets\n",
    "### 7.2 Wrangling steps\n",
    "### 7.3 Average net worth and age\n",
    "### 7.4 Self-made and inhertied percentages\n",
    "### 7.5 Female and male percentages\n",
    "### 7.6 Histogram of amount of billionaires over the years"
   ]
  },
  {
   "cell_type": "markdown",
   "id": "8ce4937a",
   "metadata": {},
   "source": [
    "# 7.1 Import assets"
   ]
  },
  {
   "cell_type": "code",
   "execution_count": 1,
   "id": "5eabe50f",
   "metadata": {},
   "outputs": [],
   "source": [
    "# Import libraries\n",
    "import pandas as pd\n",
    "import numpy as np\n",
    "import seaborn as sns\n",
    "import matplotlib.pyplot as plt\n",
    "import matplotlib\n",
    "import os"
   ]
  },
  {
   "cell_type": "code",
   "execution_count": 2,
   "id": "26e06b5c",
   "metadata": {},
   "outputs": [],
   "source": [
    "# This option ensures the charts you create are displayed in the notebook without the need to \"call\" them specifically.\n",
    "%matplotlib inline"
   ]
  },
  {
   "cell_type": "code",
   "execution_count": 3,
   "id": "b39f55ff",
   "metadata": {},
   "outputs": [],
   "source": [
    "# Import dataset\n",
    "path = r'C:\\Users\\raque\\Documents\\Achievement 6\\Forbes billionaires 1997-2023 analysis'\n",
    "df_billio = pd.read_csv(os.path.join(path, '02 Data', 'Prepared Data', 'all_billionaires_1997_2023_clean.csv'), index_col = False)"
   ]
  },
  {
   "cell_type": "code",
   "execution_count": 4,
   "id": "227d4e6e",
   "metadata": {},
   "outputs": [
    {
     "data": {
      "text/plain": [
       "(31731, 14)"
      ]
     },
     "execution_count": 4,
     "metadata": {},
     "output_type": "execute_result"
    }
   ],
   "source": [
    "df_billio.shape"
   ]
  },
  {
   "cell_type": "code",
   "execution_count": 5,
   "id": "3881a296",
   "metadata": {},
   "outputs": [
    {
     "data": {
      "text/html": [
       "<div>\n",
       "<style scoped>\n",
       "    .dataframe tbody tr th:only-of-type {\n",
       "        vertical-align: middle;\n",
       "    }\n",
       "\n",
       "    .dataframe tbody tr th {\n",
       "        vertical-align: top;\n",
       "    }\n",
       "\n",
       "    .dataframe thead th {\n",
       "        text-align: right;\n",
       "    }\n",
       "</style>\n",
       "<table border=\"1\" class=\"dataframe\">\n",
       "  <thead>\n",
       "    <tr style=\"text-align: right;\">\n",
       "      <th></th>\n",
       "      <th>year</th>\n",
       "      <th>rank</th>\n",
       "      <th>net_worth_billions</th>\n",
       "      <th>full_name</th>\n",
       "      <th>age</th>\n",
       "      <th>gender</th>\n",
       "      <th>country_of_citizenship</th>\n",
       "      <th>country_of_residence</th>\n",
       "      <th>city_of_residence</th>\n",
       "      <th>business_industries</th>\n",
       "      <th>organization_name</th>\n",
       "      <th>position_in_organization</th>\n",
       "      <th>self_made</th>\n",
       "      <th>wealth_status</th>\n",
       "    </tr>\n",
       "  </thead>\n",
       "  <tbody>\n",
       "    <tr>\n",
       "      <th>0</th>\n",
       "      <td>1997</td>\n",
       "      <td>1</td>\n",
       "      <td>2.0</td>\n",
       "      <td>Chatri Sophonpanich &amp; family</td>\n",
       "      <td>73.0</td>\n",
       "      <td>Male</td>\n",
       "      <td>Thailand</td>\n",
       "      <td>Thailand</td>\n",
       "      <td>Bangkok</td>\n",
       "      <td>['Finance and Investments']</td>\n",
       "      <td>NaN</td>\n",
       "      <td>NaN</td>\n",
       "      <td>False</td>\n",
       "      <td>NaN</td>\n",
       "    </tr>\n",
       "    <tr>\n",
       "      <th>1</th>\n",
       "      <td>1997</td>\n",
       "      <td>2</td>\n",
       "      <td>1.8</td>\n",
       "      <td>King Bhumibol Adulyadej</td>\n",
       "      <td>69.0</td>\n",
       "      <td>Male</td>\n",
       "      <td>Thailand</td>\n",
       "      <td>NaN</td>\n",
       "      <td>NaN</td>\n",
       "      <td>NaN</td>\n",
       "      <td>NaN</td>\n",
       "      <td>NaN</td>\n",
       "      <td>False</td>\n",
       "      <td>NaN</td>\n",
       "    </tr>\n",
       "    <tr>\n",
       "      <th>2</th>\n",
       "      <td>1998</td>\n",
       "      <td>1</td>\n",
       "      <td>3.3</td>\n",
       "      <td>Edmond Safra</td>\n",
       "      <td>65.0</td>\n",
       "      <td>Male</td>\n",
       "      <td>Lebanon</td>\n",
       "      <td>Lebanon</td>\n",
       "      <td>NaN</td>\n",
       "      <td>NaN</td>\n",
       "      <td>NaN</td>\n",
       "      <td>NaN</td>\n",
       "      <td>True</td>\n",
       "      <td>NaN</td>\n",
       "    </tr>\n",
       "    <tr>\n",
       "      <th>3</th>\n",
       "      <td>1999</td>\n",
       "      <td>1</td>\n",
       "      <td>7.1</td>\n",
       "      <td>Dieter Schwarz</td>\n",
       "      <td>59.0</td>\n",
       "      <td>Male</td>\n",
       "      <td>Germany</td>\n",
       "      <td>Germany</td>\n",
       "      <td>Neckarsulm</td>\n",
       "      <td>['Fashion &amp; Retail']</td>\n",
       "      <td>NaN</td>\n",
       "      <td>NaN</td>\n",
       "      <td>True</td>\n",
       "      <td>NaN</td>\n",
       "    </tr>\n",
       "    <tr>\n",
       "      <th>4</th>\n",
       "      <td>1999</td>\n",
       "      <td>2</td>\n",
       "      <td>2.9</td>\n",
       "      <td>Martin Ebner</td>\n",
       "      <td>53.0</td>\n",
       "      <td>Male</td>\n",
       "      <td>Switzerland</td>\n",
       "      <td>Switzerland</td>\n",
       "      <td>Wilen</td>\n",
       "      <td>['Finance and Investments']</td>\n",
       "      <td>NaN</td>\n",
       "      <td>NaN</td>\n",
       "      <td>False</td>\n",
       "      <td>NaN</td>\n",
       "    </tr>\n",
       "  </tbody>\n",
       "</table>\n",
       "</div>"
      ],
      "text/plain": [
       "   year  rank  net_worth_billions                     full_name   age gender  \\\n",
       "0  1997     1                 2.0  Chatri Sophonpanich & family  73.0   Male   \n",
       "1  1997     2                 1.8       King Bhumibol Adulyadej  69.0   Male   \n",
       "2  1998     1                 3.3                  Edmond Safra  65.0   Male   \n",
       "3  1999     1                 7.1                Dieter Schwarz  59.0   Male   \n",
       "4  1999     2                 2.9                  Martin Ebner  53.0   Male   \n",
       "\n",
       "  country_of_citizenship country_of_residence city_of_residence  \\\n",
       "0               Thailand             Thailand           Bangkok   \n",
       "1               Thailand                  NaN               NaN   \n",
       "2                Lebanon              Lebanon               NaN   \n",
       "3                Germany              Germany        Neckarsulm   \n",
       "4            Switzerland          Switzerland             Wilen   \n",
       "\n",
       "           business_industries organization_name position_in_organization  \\\n",
       "0  ['Finance and Investments']               NaN                      NaN   \n",
       "1                          NaN               NaN                      NaN   \n",
       "2                          NaN               NaN                      NaN   \n",
       "3         ['Fashion & Retail']               NaN                      NaN   \n",
       "4  ['Finance and Investments']               NaN                      NaN   \n",
       "\n",
       "   self_made wealth_status  \n",
       "0      False           NaN  \n",
       "1      False           NaN  \n",
       "2       True           NaN  \n",
       "3       True           NaN  \n",
       "4      False           NaN  "
      ]
     },
     "execution_count": 5,
     "metadata": {},
     "output_type": "execute_result"
    }
   ],
   "source": [
    "df_billio.head()"
   ]
  },
  {
   "cell_type": "code",
   "execution_count": 6,
   "id": "5842f6e2",
   "metadata": {},
   "outputs": [],
   "source": [
    "# Filtering year 2023\n",
    "df_2023 = df_billio.loc[df_billio['year'] == 2023]"
   ]
  },
  {
   "cell_type": "code",
   "execution_count": 7,
   "id": "72efe0e5",
   "metadata": {},
   "outputs": [
    {
     "data": {
      "text/plain": [
       "(2640, 14)"
      ]
     },
     "execution_count": 7,
     "metadata": {},
     "output_type": "execute_result"
    }
   ],
   "source": [
    "df_2023.shape"
   ]
  },
  {
   "cell_type": "code",
   "execution_count": 8,
   "id": "c56541a5",
   "metadata": {},
   "outputs": [],
   "source": [
    "# Create a subset with numerical data\n",
    "df_num23 = df_2023[['age', 'net_worth_billions']]"
   ]
  },
  {
   "cell_type": "code",
   "execution_count": 9,
   "id": "a5ff9b31",
   "metadata": {},
   "outputs": [
    {
     "data": {
      "text/html": [
       "<div>\n",
       "<style scoped>\n",
       "    .dataframe tbody tr th:only-of-type {\n",
       "        vertical-align: middle;\n",
       "    }\n",
       "\n",
       "    .dataframe tbody tr th {\n",
       "        vertical-align: top;\n",
       "    }\n",
       "\n",
       "    .dataframe thead th {\n",
       "        text-align: right;\n",
       "    }\n",
       "</style>\n",
       "<table border=\"1\" class=\"dataframe\">\n",
       "  <thead>\n",
       "    <tr style=\"text-align: right;\">\n",
       "      <th></th>\n",
       "      <th>age</th>\n",
       "      <th>net_worth_billions</th>\n",
       "    </tr>\n",
       "  </thead>\n",
       "  <tbody>\n",
       "    <tr>\n",
       "      <th>29091</th>\n",
       "      <td>74.0</td>\n",
       "      <td>211.0</td>\n",
       "    </tr>\n",
       "    <tr>\n",
       "      <th>29092</th>\n",
       "      <td>51.0</td>\n",
       "      <td>180.0</td>\n",
       "    </tr>\n",
       "    <tr>\n",
       "      <th>29093</th>\n",
       "      <td>59.0</td>\n",
       "      <td>114.0</td>\n",
       "    </tr>\n",
       "    <tr>\n",
       "      <th>29094</th>\n",
       "      <td>78.0</td>\n",
       "      <td>107.0</td>\n",
       "    </tr>\n",
       "    <tr>\n",
       "      <th>29095</th>\n",
       "      <td>92.0</td>\n",
       "      <td>106.0</td>\n",
       "    </tr>\n",
       "  </tbody>\n",
       "</table>\n",
       "</div>"
      ],
      "text/plain": [
       "        age  net_worth_billions\n",
       "29091  74.0               211.0\n",
       "29092  51.0               180.0\n",
       "29093  59.0               114.0\n",
       "29094  78.0               107.0\n",
       "29095  92.0               106.0"
      ]
     },
     "execution_count": 9,
     "metadata": {},
     "output_type": "execute_result"
    }
   ],
   "source": [
    "df_num23.head()"
   ]
  },
  {
   "cell_type": "code",
   "execution_count": 10,
   "id": "59d1c5de",
   "metadata": {},
   "outputs": [
    {
     "data": {
      "text/plain": [
       "(2640, 2)"
      ]
     },
     "execution_count": 10,
     "metadata": {},
     "output_type": "execute_result"
    }
   ],
   "source": [
    "df_num23.shape"
   ]
  },
  {
   "cell_type": "code",
   "execution_count": 11,
   "id": "2bfa6215",
   "metadata": {},
   "outputs": [],
   "source": [
    "# Aggregatign a column with the count of billionaires per year"
   ]
  },
  {
   "cell_type": "code",
   "execution_count": 12,
   "id": "dcd2a1f4",
   "metadata": {},
   "outputs": [
    {
     "data": {
      "text/plain": [
       "year\n",
       "2021    2755\n",
       "2022    2668\n",
       "2023    2640\n",
       "2018    2208\n",
       "2019    2153\n",
       "2020    2095\n",
       "2017    2043\n",
       "2015    1826\n",
       "2016    1810\n",
       "2014    1645\n",
       "2013    1426\n",
       "2012    1226\n",
       "2011    1209\n",
       "2010    1011\n",
       "2008     908\n",
       "2007     761\n",
       "2009     738\n",
       "2006     628\n",
       "2005     530\n",
       "2004     432\n",
       "2001     335\n",
       "2002     333\n",
       "2003     332\n",
       "2000       8\n",
       "1999       8\n",
       "1997       2\n",
       "1998       1\n",
       "Name: count, dtype: int64"
      ]
     },
     "execution_count": 12,
     "metadata": {},
     "output_type": "execute_result"
    }
   ],
   "source": [
    "# Counting customers grouped by type of spender \n",
    "df_billio['year'].value_counts(dropna = False)"
   ]
  },
  {
   "cell_type": "markdown",
   "id": "a31c8f0e",
   "metadata": {},
   "source": [
    "# 7.3 Average net worth and age"
   ]
  },
  {
   "cell_type": "code",
   "execution_count": 13,
   "id": "ce7e02da",
   "metadata": {},
   "outputs": [
    {
     "data": {
      "text/html": [
       "<div>\n",
       "<style scoped>\n",
       "    .dataframe tbody tr th:only-of-type {\n",
       "        vertical-align: middle;\n",
       "    }\n",
       "\n",
       "    .dataframe tbody tr th {\n",
       "        vertical-align: top;\n",
       "    }\n",
       "\n",
       "    .dataframe thead th {\n",
       "        text-align: right;\n",
       "    }\n",
       "</style>\n",
       "<table border=\"1\" class=\"dataframe\">\n",
       "  <thead>\n",
       "    <tr style=\"text-align: right;\">\n",
       "      <th></th>\n",
       "      <th>age</th>\n",
       "      <th>net_worth_billions</th>\n",
       "    </tr>\n",
       "  </thead>\n",
       "  <tbody>\n",
       "    <tr>\n",
       "      <th>count</th>\n",
       "      <td>2575.000000</td>\n",
       "      <td>2640.000000</td>\n",
       "    </tr>\n",
       "    <tr>\n",
       "      <th>mean</th>\n",
       "      <td>65.139029</td>\n",
       "      <td>4.623788</td>\n",
       "    </tr>\n",
       "    <tr>\n",
       "      <th>std</th>\n",
       "      <td>13.258623</td>\n",
       "      <td>9.834241</td>\n",
       "    </tr>\n",
       "    <tr>\n",
       "      <th>min</th>\n",
       "      <td>18.000000</td>\n",
       "      <td>1.000000</td>\n",
       "    </tr>\n",
       "    <tr>\n",
       "      <th>25%</th>\n",
       "      <td>56.000000</td>\n",
       "      <td>1.500000</td>\n",
       "    </tr>\n",
       "    <tr>\n",
       "      <th>50%</th>\n",
       "      <td>65.000000</td>\n",
       "      <td>2.300000</td>\n",
       "    </tr>\n",
       "    <tr>\n",
       "      <th>75%</th>\n",
       "      <td>75.000000</td>\n",
       "      <td>4.200000</td>\n",
       "    </tr>\n",
       "    <tr>\n",
       "      <th>max</th>\n",
       "      <td>101.000000</td>\n",
       "      <td>211.000000</td>\n",
       "    </tr>\n",
       "  </tbody>\n",
       "</table>\n",
       "</div>"
      ],
      "text/plain": [
       "               age  net_worth_billions\n",
       "count  2575.000000         2640.000000\n",
       "mean     65.139029            4.623788\n",
       "std      13.258623            9.834241\n",
       "min      18.000000            1.000000\n",
       "25%      56.000000            1.500000\n",
       "50%      65.000000            2.300000\n",
       "75%      75.000000            4.200000\n",
       "max     101.000000          211.000000"
      ]
     },
     "execution_count": 13,
     "metadata": {},
     "output_type": "execute_result"
    }
   ],
   "source": [
    "df_num23.describe()"
   ]
  },
  {
   "cell_type": "markdown",
   "id": "c217ac0d",
   "metadata": {},
   "source": [
    "- Average age: 65\n",
    "- Average net worth: 4.6 Billions"
   ]
  },
  {
   "cell_type": "markdown",
   "id": "a442bf8d",
   "metadata": {},
   "source": [
    "# 7.4 Self-made and inhertied percentages"
   ]
  },
  {
   "cell_type": "code",
   "execution_count": 14,
   "id": "96f66795",
   "metadata": {},
   "outputs": [
    {
     "data": {
      "text/plain": [
       "self_made\n",
       "True     1812\n",
       "False     828\n",
       "Name: count, dtype: int64"
      ]
     },
     "execution_count": 14,
     "metadata": {},
     "output_type": "execute_result"
    }
   ],
   "source": [
    "# Counting customers grouped by type of spender \n",
    "df_2023['self_made'].value_counts(dropna = False)"
   ]
  },
  {
   "cell_type": "markdown",
   "id": "8133206e",
   "metadata": {},
   "source": [
    "- 69% self-made\n",
    "- 31% inherited"
   ]
  },
  {
   "cell_type": "markdown",
   "id": "ee2430f0",
   "metadata": {},
   "source": [
    "# 7.5 Female and male percentages"
   ]
  },
  {
   "cell_type": "code",
   "execution_count": 15,
   "id": "a8227328",
   "metadata": {},
   "outputs": [
    {
     "data": {
      "text/plain": [
       "gender\n",
       "Male      2303\n",
       "Female     337\n",
       "Name: count, dtype: int64"
      ]
     },
     "execution_count": 15,
     "metadata": {},
     "output_type": "execute_result"
    }
   ],
   "source": [
    "# Counting customers grouped by type of spender \n",
    "df_2023['gender'].value_counts(dropna = False)"
   ]
  },
  {
   "cell_type": "markdown",
   "id": "6b07b808",
   "metadata": {},
   "source": [
    "- 87% Males\n",
    "- 13% Women"
   ]
  },
  {
   "cell_type": "markdown",
   "id": "3637d822",
   "metadata": {},
   "source": [
    "# 7.6 Histogram of amount of billionaires over the years"
   ]
  },
  {
   "cell_type": "code",
   "execution_count": 17,
   "id": "eeaadbb5",
   "metadata": {},
   "outputs": [
    {
     "data": {
      "image/png": "[encoded data removed]",
      "text/plain": [
       "<Figure size 640x480 with 1 Axes>"
      ]
     },
     "metadata": {},
     "output_type": "display_data"
    }
   ],
   "source": [
    "sns_hist = sns.histplot(data = df_billio, x = 'year', color = 'mediumpurple', alpha = 1, binwidth = 1).set(title='Number of billionaires per year (1997-2023)')\n",
    "plt.savefig('hist.png')"
   ]
  },
  {
   "cell_type": "code",
   "execution_count": null,
   "id": "6f497b91",
   "metadata": {},
   "outputs": [],
   "source": []
  }
 ],
 "metadata": {
  "kernelspec": {
   "display_name": "Python 3 (ipykernel)",
   "language": "python",
   "name": "python3"
  },
  "language_info": {
   "codemirror_mode": {
    "name": "ipython",
    "version": 3
   },
   "file_extension": ".py",
   "mimetype": "text/x-python",
   "name": "python",
   "nbconvert_exporter": "python",
   "pygments_lexer": "ipython3",
   "version": "3.11.4"
  }
 },
 "nbformat": 4,
 "nbformat_minor": 5
}
