{
 "cells": [
  {
   "cell_type": "markdown",
   "id": "063be44d",
   "metadata": {},
   "source": [
    "### Table of contents\n",
    "# 4. Regression analysis\n",
    "### 4.1 Import assets\n",
    "### 4.2 Data cleaning\n",
    "### 4.3 Data prep for regression analysis\n",
    "### 4.4 Regression analysis"
   ]
  },
  {
   "cell_type": "markdown",
   "id": "b2a3b6e0",
   "metadata": {},
   "source": [
    "# 4.1 Import assets"
   ]
  },
  {
   "cell_type": "code",
   "execution_count": 1,
   "id": "d1f82468",
   "metadata": {},
   "outputs": [],
   "source": [
    "# Import libraries and modules\n",
    "import pandas as pd\n",
    "import numpy as np\n",
    "import seaborn as sns\n",
    "import matplotlib\n",
    "import matplotlib.pyplot as plt\n",
    "import os\n",
    "import sklearn\n",
    "from sklearn.model_selection import train_test_split \n",
    "from sklearn.linear_model import LinearRegression\n",
    "from sklearn.metrics import mean_squared_error, r2_score"
   ]
  },
  {
   "cell_type": "code",
   "execution_count": 2,
   "id": "36025559",
   "metadata": {},
   "outputs": [],
   "source": [
    "# This command propts matplotlib visuals to appear in the notebook \n",
    "%matplotlib inline"
   ]
  },
  {
   "cell_type": "code",
   "execution_count": 3,
   "id": "c29b107a",
   "metadata": {},
   "outputs": [],
   "source": [
    "# Path to import datasets\n",
    "path = r'C:\\Users\\raque\\Documents\\Achievement 6\\Forbes billionaires 1997-2023 analysis'"
   ]
  },
  {
   "cell_type": "code",
   "execution_count": 4,
   "id": "356e94d4",
   "metadata": {},
   "outputs": [],
   "source": [
    "# Import datasets\n",
    "df_billio = pd.read_csv(os.path.join(path, '02 Data', 'Prepared Data', 'all_billionaires_1997_2023_clean.csv'), index_col = False)"
   ]
  },
  {
   "cell_type": "markdown",
   "id": "a4fd9727",
   "metadata": {},
   "source": [
    "# 4.2 Data cleaning"
   ]
  },
  {
   "cell_type": "code",
   "execution_count": 5,
   "id": "d664db23",
   "metadata": {},
   "outputs": [
    {
     "data": {
      "text/plain": [
       "Index(['year', 'rank', 'net_worth_billions', 'full_name', 'age', 'gender',\n",
       "       'country_of_citizenship', 'country_of_residence', 'city_of_residence',\n",
       "       'business_industries', 'organization_name', 'position_in_organization',\n",
       "       'self_made', 'wealth_status'],\n",
       "      dtype='object')"
      ]
     },
     "execution_count": 5,
     "metadata": {},
     "output_type": "execute_result"
    }
   ],
   "source": [
    "df_billio.columns"
   ]
  },
  {
   "cell_type": "code",
   "execution_count": 6,
   "id": "01030c62",
   "metadata": {},
   "outputs": [
    {
     "data": {
      "text/plain": [
       "(31731, 14)"
      ]
     },
     "execution_count": 6,
     "metadata": {},
     "output_type": "execute_result"
    }
   ],
   "source": [
    "df_billio.shape"
   ]
  },
  {
   "cell_type": "code",
   "execution_count": 7,
   "id": "66aff196",
   "metadata": {},
   "outputs": [
    {
     "data": {
      "text/html": [
       "<div>\n",
       "<style scoped>\n",
       "    .dataframe tbody tr th:only-of-type {\n",
       "        vertical-align: middle;\n",
       "    }\n",
       "\n",
       "    .dataframe tbody tr th {\n",
       "        vertical-align: top;\n",
       "    }\n",
       "\n",
       "    .dataframe thead th {\n",
       "        text-align: right;\n",
       "    }\n",
       "</style>\n",
       "<table border=\"1\" class=\"dataframe\">\n",
       "  <thead>\n",
       "    <tr style=\"text-align: right;\">\n",
       "      <th></th>\n",
       "      <th>year</th>\n",
       "      <th>rank</th>\n",
       "      <th>net_worth_billions</th>\n",
       "      <th>full_name</th>\n",
       "      <th>age</th>\n",
       "      <th>gender</th>\n",
       "      <th>country_of_citizenship</th>\n",
       "      <th>country_of_residence</th>\n",
       "      <th>city_of_residence</th>\n",
       "      <th>business_industries</th>\n",
       "      <th>organization_name</th>\n",
       "      <th>position_in_organization</th>\n",
       "      <th>self_made</th>\n",
       "      <th>wealth_status</th>\n",
       "    </tr>\n",
       "  </thead>\n",
       "  <tbody>\n",
       "    <tr>\n",
       "      <th>0</th>\n",
       "      <td>1997</td>\n",
       "      <td>1</td>\n",
       "      <td>2.0</td>\n",
       "      <td>Chatri Sophonpanich &amp; family</td>\n",
       "      <td>73.0</td>\n",
       "      <td>Male</td>\n",
       "      <td>Thailand</td>\n",
       "      <td>Thailand</td>\n",
       "      <td>Bangkok</td>\n",
       "      <td>['Finance and Investments']</td>\n",
       "      <td>NaN</td>\n",
       "      <td>NaN</td>\n",
       "      <td>False</td>\n",
       "      <td>NaN</td>\n",
       "    </tr>\n",
       "    <tr>\n",
       "      <th>1</th>\n",
       "      <td>1997</td>\n",
       "      <td>2</td>\n",
       "      <td>1.8</td>\n",
       "      <td>King Bhumibol Adulyadej</td>\n",
       "      <td>69.0</td>\n",
       "      <td>Male</td>\n",
       "      <td>Thailand</td>\n",
       "      <td>NaN</td>\n",
       "      <td>NaN</td>\n",
       "      <td>NaN</td>\n",
       "      <td>NaN</td>\n",
       "      <td>NaN</td>\n",
       "      <td>False</td>\n",
       "      <td>NaN</td>\n",
       "    </tr>\n",
       "    <tr>\n",
       "      <th>2</th>\n",
       "      <td>1998</td>\n",
       "      <td>1</td>\n",
       "      <td>3.3</td>\n",
       "      <td>Edmond Safra</td>\n",
       "      <td>65.0</td>\n",
       "      <td>Male</td>\n",
       "      <td>Lebanon</td>\n",
       "      <td>Lebanon</td>\n",
       "      <td>NaN</td>\n",
       "      <td>NaN</td>\n",
       "      <td>NaN</td>\n",
       "      <td>NaN</td>\n",
       "      <td>True</td>\n",
       "      <td>NaN</td>\n",
       "    </tr>\n",
       "    <tr>\n",
       "      <th>3</th>\n",
       "      <td>1999</td>\n",
       "      <td>1</td>\n",
       "      <td>7.1</td>\n",
       "      <td>Dieter Schwarz</td>\n",
       "      <td>59.0</td>\n",
       "      <td>Male</td>\n",
       "      <td>Germany</td>\n",
       "      <td>Germany</td>\n",
       "      <td>Neckarsulm</td>\n",
       "      <td>['Fashion &amp; Retail']</td>\n",
       "      <td>NaN</td>\n",
       "      <td>NaN</td>\n",
       "      <td>True</td>\n",
       "      <td>NaN</td>\n",
       "    </tr>\n",
       "    <tr>\n",
       "      <th>4</th>\n",
       "      <td>1999</td>\n",
       "      <td>2</td>\n",
       "      <td>2.9</td>\n",
       "      <td>Martin Ebner</td>\n",
       "      <td>53.0</td>\n",
       "      <td>Male</td>\n",
       "      <td>Switzerland</td>\n",
       "      <td>Switzerland</td>\n",
       "      <td>Wilen</td>\n",
       "      <td>['Finance and Investments']</td>\n",
       "      <td>NaN</td>\n",
       "      <td>NaN</td>\n",
       "      <td>False</td>\n",
       "      <td>NaN</td>\n",
       "    </tr>\n",
       "  </tbody>\n",
       "</table>\n",
       "</div>"
      ],
      "text/plain": [
       "   year  rank  net_worth_billions                     full_name   age gender  \\\n",
       "0  1997     1                 2.0  Chatri Sophonpanich & family  73.0   Male   \n",
       "1  1997     2                 1.8       King Bhumibol Adulyadej  69.0   Male   \n",
       "2  1998     1                 3.3                  Edmond Safra  65.0   Male   \n",
       "3  1999     1                 7.1                Dieter Schwarz  59.0   Male   \n",
       "4  1999     2                 2.9                  Martin Ebner  53.0   Male   \n",
       "\n",
       "  country_of_citizenship country_of_residence city_of_residence  \\\n",
       "0               Thailand             Thailand           Bangkok   \n",
       "1               Thailand                  NaN               NaN   \n",
       "2                Lebanon              Lebanon               NaN   \n",
       "3                Germany              Germany        Neckarsulm   \n",
       "4            Switzerland          Switzerland             Wilen   \n",
       "\n",
       "           business_industries organization_name position_in_organization  \\\n",
       "0  ['Finance and Investments']               NaN                      NaN   \n",
       "1                          NaN               NaN                      NaN   \n",
       "2                          NaN               NaN                      NaN   \n",
       "3         ['Fashion & Retail']               NaN                      NaN   \n",
       "4  ['Finance and Investments']               NaN                      NaN   \n",
       "\n",
       "   self_made wealth_status  \n",
       "0      False           NaN  \n",
       "1      False           NaN  \n",
       "2       True           NaN  \n",
       "3       True           NaN  \n",
       "4      False           NaN  "
      ]
     },
     "execution_count": 7,
     "metadata": {},
     "output_type": "execute_result"
    }
   ],
   "source": [
    "df_billio.head()"
   ]
  },
  {
   "cell_type": "markdown",
   "id": "e9aefa22",
   "metadata": {},
   "source": [
    "### Creating subsets"
   ]
  },
  {
   "cell_type": "code",
   "execution_count": 8,
   "id": "1901bacc",
   "metadata": {},
   "outputs": [],
   "source": [
    "# Filtering year 2023\n",
    "df_2023 = df_billio.loc[df_billio['year'] == 2023]"
   ]
  },
  {
   "cell_type": "code",
   "execution_count": 9,
   "id": "26fa1907",
   "metadata": {},
   "outputs": [],
   "source": [
    "# Create a subset for 2023 with the relevant data for the relations analysis\n",
    "sub_2023 = df_2023[['year', 'rank', 'net_worth_billions', 'age']]"
   ]
  },
  {
   "cell_type": "code",
   "execution_count": 10,
   "id": "185866e9",
   "metadata": {},
   "outputs": [
    {
     "data": {
      "text/plain": [
       "(2640, 4)"
      ]
     },
     "execution_count": 10,
     "metadata": {},
     "output_type": "execute_result"
    }
   ],
   "source": [
    "sub_2023.shape"
   ]
  },
  {
   "cell_type": "code",
   "execution_count": 11,
   "id": "98d0da5f",
   "metadata": {},
   "outputs": [
    {
     "data": {
      "text/html": [
       "<div>\n",
       "<style scoped>\n",
       "    .dataframe tbody tr th:only-of-type {\n",
       "        vertical-align: middle;\n",
       "    }\n",
       "\n",
       "    .dataframe tbody tr th {\n",
       "        vertical-align: top;\n",
       "    }\n",
       "\n",
       "    .dataframe thead th {\n",
       "        text-align: right;\n",
       "    }\n",
       "</style>\n",
       "<table border=\"1\" class=\"dataframe\">\n",
       "  <thead>\n",
       "    <tr style=\"text-align: right;\">\n",
       "      <th></th>\n",
       "      <th>year</th>\n",
       "      <th>rank</th>\n",
       "      <th>net_worth_billions</th>\n",
       "      <th>age</th>\n",
       "    </tr>\n",
       "  </thead>\n",
       "  <tbody>\n",
       "    <tr>\n",
       "      <th>29091</th>\n",
       "      <td>2023</td>\n",
       "      <td>1</td>\n",
       "      <td>211.0</td>\n",
       "      <td>74.0</td>\n",
       "    </tr>\n",
       "    <tr>\n",
       "      <th>29092</th>\n",
       "      <td>2023</td>\n",
       "      <td>2</td>\n",
       "      <td>180.0</td>\n",
       "      <td>51.0</td>\n",
       "    </tr>\n",
       "    <tr>\n",
       "      <th>29093</th>\n",
       "      <td>2023</td>\n",
       "      <td>3</td>\n",
       "      <td>114.0</td>\n",
       "      <td>59.0</td>\n",
       "    </tr>\n",
       "    <tr>\n",
       "      <th>29094</th>\n",
       "      <td>2023</td>\n",
       "      <td>4</td>\n",
       "      <td>107.0</td>\n",
       "      <td>78.0</td>\n",
       "    </tr>\n",
       "    <tr>\n",
       "      <th>29095</th>\n",
       "      <td>2023</td>\n",
       "      <td>5</td>\n",
       "      <td>106.0</td>\n",
       "      <td>92.0</td>\n",
       "    </tr>\n",
       "  </tbody>\n",
       "</table>\n",
       "</div>"
      ],
      "text/plain": [
       "       year  rank  net_worth_billions   age\n",
       "29091  2023     1               211.0  74.0\n",
       "29092  2023     2               180.0  51.0\n",
       "29093  2023     3               114.0  59.0\n",
       "29094  2023     4               107.0  78.0\n",
       "29095  2023     5               106.0  92.0"
      ]
     },
     "execution_count": 11,
     "metadata": {},
     "output_type": "execute_result"
    }
   ],
   "source": [
    "sub_2023.head()"
   ]
  },
  {
   "cell_type": "code",
   "execution_count": 12,
   "id": "2a4f6821",
   "metadata": {},
   "outputs": [],
   "source": [
    "# Create a subset for 2023 with the relevant data for the relations analysis\n",
    "sub_billio = df_billio[['year', 'rank', 'net_worth_billions', 'age']]"
   ]
  },
  {
   "cell_type": "code",
   "execution_count": 13,
   "id": "db0c1f6a",
   "metadata": {},
   "outputs": [
    {
     "data": {
      "text/plain": [
       "(31731, 4)"
      ]
     },
     "execution_count": 13,
     "metadata": {},
     "output_type": "execute_result"
    }
   ],
   "source": [
    "sub_billio.shape"
   ]
  },
  {
   "cell_type": "code",
   "execution_count": 14,
   "id": "9d933245",
   "metadata": {},
   "outputs": [
    {
     "data": {
      "text/html": [
       "<div>\n",
       "<style scoped>\n",
       "    .dataframe tbody tr th:only-of-type {\n",
       "        vertical-align: middle;\n",
       "    }\n",
       "\n",
       "    .dataframe tbody tr th {\n",
       "        vertical-align: top;\n",
       "    }\n",
       "\n",
       "    .dataframe thead th {\n",
       "        text-align: right;\n",
       "    }\n",
       "</style>\n",
       "<table border=\"1\" class=\"dataframe\">\n",
       "  <thead>\n",
       "    <tr style=\"text-align: right;\">\n",
       "      <th></th>\n",
       "      <th>year</th>\n",
       "      <th>rank</th>\n",
       "      <th>net_worth_billions</th>\n",
       "      <th>age</th>\n",
       "    </tr>\n",
       "  </thead>\n",
       "  <tbody>\n",
       "    <tr>\n",
       "      <th>0</th>\n",
       "      <td>1997</td>\n",
       "      <td>1</td>\n",
       "      <td>2.0</td>\n",
       "      <td>73.0</td>\n",
       "    </tr>\n",
       "    <tr>\n",
       "      <th>1</th>\n",
       "      <td>1997</td>\n",
       "      <td>2</td>\n",
       "      <td>1.8</td>\n",
       "      <td>69.0</td>\n",
       "    </tr>\n",
       "    <tr>\n",
       "      <th>2</th>\n",
       "      <td>1998</td>\n",
       "      <td>1</td>\n",
       "      <td>3.3</td>\n",
       "      <td>65.0</td>\n",
       "    </tr>\n",
       "    <tr>\n",
       "      <th>3</th>\n",
       "      <td>1999</td>\n",
       "      <td>1</td>\n",
       "      <td>7.1</td>\n",
       "      <td>59.0</td>\n",
       "    </tr>\n",
       "    <tr>\n",
       "      <th>4</th>\n",
       "      <td>1999</td>\n",
       "      <td>2</td>\n",
       "      <td>2.9</td>\n",
       "      <td>53.0</td>\n",
       "    </tr>\n",
       "  </tbody>\n",
       "</table>\n",
       "</div>"
      ],
      "text/plain": [
       "   year  rank  net_worth_billions   age\n",
       "0  1997     1                 2.0  73.0\n",
       "1  1997     2                 1.8  69.0\n",
       "2  1998     1                 3.3  65.0\n",
       "3  1999     1                 7.1  59.0\n",
       "4  1999     2                 2.9  53.0"
      ]
     },
     "execution_count": 14,
     "metadata": {},
     "output_type": "execute_result"
    }
   ],
   "source": [
    "sub_billio.head()"
   ]
  },
  {
   "cell_type": "markdown",
   "id": "6178f681",
   "metadata": {},
   "source": [
    "### Missing values"
   ]
  },
  {
   "cell_type": "code",
   "execution_count": 15,
   "id": "1ffa1ef8",
   "metadata": {},
   "outputs": [
    {
     "data": {
      "text/plain": [
       "year                    0\n",
       "rank                    0\n",
       "net_worth_billions      0\n",
       "age                   675\n",
       "dtype: int64"
      ]
     },
     "execution_count": 15,
     "metadata": {},
     "output_type": "execute_result"
    }
   ],
   "source": [
    "# Check for missing values\n",
    "sub_billio.isnull().sum()"
   ]
  },
  {
   "cell_type": "code",
   "execution_count": 16,
   "id": "aa6842be",
   "metadata": {},
   "outputs": [
    {
     "name": "stderr",
     "output_type": "stream",
     "text": [
      "C:\\Users\\raque\\AppData\\Local\\Temp\\ipykernel_28016\\1127739938.py:2: SettingWithCopyWarning: \n",
      "A value is trying to be set on a copy of a slice from a DataFrame\n",
      "\n",
      "See the caveats in the documentation: https://pandas.pydata.org/pandas-docs/stable/user_guide/indexing.html#returning-a-view-versus-a-copy\n",
      "  sub_billio['age'].fillna(sub_billio['age'].median(), inplace=True)\n"
     ]
    }
   ],
   "source": [
    "# Impute missing values with median\n",
    "sub_billio['age'].fillna(sub_billio['age'].median(), inplace=True)"
   ]
  },
  {
   "cell_type": "code",
   "execution_count": 17,
   "id": "31986ca6",
   "metadata": {},
   "outputs": [
    {
     "data": {
      "text/plain": [
       "year                  0\n",
       "rank                  0\n",
       "net_worth_billions    0\n",
       "age                   0\n",
       "dtype: int64"
      ]
     },
     "execution_count": 17,
     "metadata": {},
     "output_type": "execute_result"
    }
   ],
   "source": [
    "# Last check for NaN\n",
    "sub_billio.isnull().sum()"
   ]
  },
  {
   "cell_type": "code",
   "execution_count": 18,
   "id": "9d6385c5",
   "metadata": {},
   "outputs": [
    {
     "data": {
      "text/plain": [
       "year                   0\n",
       "rank                   0\n",
       "net_worth_billions     0\n",
       "age                   65\n",
       "dtype: int64"
      ]
     },
     "execution_count": 18,
     "metadata": {},
     "output_type": "execute_result"
    }
   ],
   "source": [
    "# Check for missing values\n",
    "sub_2023.isnull().sum()"
   ]
  },
  {
   "cell_type": "code",
   "execution_count": 19,
   "id": "5d666010",
   "metadata": {},
   "outputs": [
    {
     "name": "stderr",
     "output_type": "stream",
     "text": [
      "C:\\Users\\raque\\AppData\\Local\\Temp\\ipykernel_28016\\2045718345.py:2: SettingWithCopyWarning: \n",
      "A value is trying to be set on a copy of a slice from a DataFrame\n",
      "\n",
      "See the caveats in the documentation: https://pandas.pydata.org/pandas-docs/stable/user_guide/indexing.html#returning-a-view-versus-a-copy\n",
      "  sub_2023['age'].fillna(sub_2023['age'].median(), inplace=True)\n"
     ]
    }
   ],
   "source": [
    "# Impute missing values with median\n",
    "sub_2023['age'].fillna(sub_2023['age'].median(), inplace=True)"
   ]
  },
  {
   "cell_type": "code",
   "execution_count": 20,
   "id": "b726b248",
   "metadata": {},
   "outputs": [
    {
     "data": {
      "text/plain": [
       "year                  0\n",
       "rank                  0\n",
       "net_worth_billions    0\n",
       "age                   0\n",
       "dtype: int64"
      ]
     },
     "execution_count": 20,
     "metadata": {},
     "output_type": "execute_result"
    }
   ],
   "source": [
    "# Last check for NaN\n",
    "sub_2023.isnull().sum()"
   ]
  },
  {
   "cell_type": "markdown",
   "id": "56049dd6",
   "metadata": {},
   "source": [
    "2% of age missing data has been imputed through median in both subsets"
   ]
  },
  {
   "cell_type": "markdown",
   "id": "52212d69",
   "metadata": {},
   "source": [
    "### Duplicates"
   ]
  },
  {
   "cell_type": "code",
   "execution_count": 21,
   "id": "e2c3f2a9",
   "metadata": {},
   "outputs": [],
   "source": [
    "# Checking for duplicates\n",
    "dups = sub_billio.duplicated()"
   ]
  },
  {
   "cell_type": "code",
   "execution_count": 22,
   "id": "265ad4e7",
   "metadata": {},
   "outputs": [
    {
     "data": {
      "text/plain": [
       "(31731,)"
      ]
     },
     "execution_count": 22,
     "metadata": {},
     "output_type": "execute_result"
    }
   ],
   "source": [
    "dups.shape # no dups"
   ]
  },
  {
   "cell_type": "code",
   "execution_count": 23,
   "id": "ea63a8db",
   "metadata": {},
   "outputs": [],
   "source": [
    "# Checking for duplicates\n",
    "dups23 = sub_2023.duplicated()"
   ]
  },
  {
   "cell_type": "code",
   "execution_count": 24,
   "id": "9078efee",
   "metadata": {},
   "outputs": [
    {
     "data": {
      "text/plain": [
       "(2640,)"
      ]
     },
     "execution_count": 24,
     "metadata": {},
     "output_type": "execute_result"
    }
   ],
   "source": [
    "dups23.shape # no dups"
   ]
  },
  {
   "cell_type": "markdown",
   "id": "1deeedae",
   "metadata": {},
   "source": [
    "### Extreme values check"
   ]
  },
  {
   "cell_type": "code",
   "execution_count": 25,
   "id": "b7cf136f",
   "metadata": {},
   "outputs": [
    {
     "name": "stderr",
     "output_type": "stream",
     "text": [
      "C:\\Users\\raque\\AppData\\Local\\Temp\\ipykernel_28016\\2981144357.py:2: UserWarning: \n",
      "\n",
      "`distplot` is a deprecated function and will be removed in seaborn v0.14.0.\n",
      "\n",
      "Please adapt your code to use either `displot` (a figure-level function with\n",
      "similar flexibility) or `histplot` (an axes-level function for histograms).\n",
      "\n",
      "For a guide to updating your code to use the new functions, please see\n",
      "https://gist.github.com/mwaskom/de44147ed2974457ad6372750bbe5751\n",
      "\n",
      "  sns.distplot(sub_2023['net_worth_billions'], bins=50) # Shows extreme values\n"
     ]
    },
    {
     "data": {
      "text/plain": [
       "<Axes: xlabel='net_worth_billions', ylabel='Density'>"
      ]
     },
     "execution_count": 25,
     "metadata": {},
     "output_type": "execute_result"
    },
    {
     "data": {
      "image/png": "[encoded data removed]",
      "text/plain": [
       "<Figure size 640x480 with 1 Axes>"
      ]
     },
     "metadata": {},
     "output_type": "display_data"
    }
   ],
   "source": [
    "# shows extreme values for 'net_worth_billions'\n",
    "sns.distplot(sub_2023['net_worth_billions'], bins=50) # Shows extreme values\n",
    "\n",
    "# Some of the outliers in the high values may need to be removed, but let's try without doing so first."
   ]
  },
  {
   "cell_type": "code",
   "execution_count": 26,
   "id": "238bddb4",
   "metadata": {},
   "outputs": [
    {
     "data": {
      "text/plain": [
       "4.623787878787878"
      ]
     },
     "execution_count": 26,
     "metadata": {},
     "output_type": "execute_result"
    }
   ],
   "source": [
    "sub_2023['net_worth_billions'].mean() # Check the mean"
   ]
  },
  {
   "cell_type": "code",
   "execution_count": 27,
   "id": "917f23f0",
   "metadata": {},
   "outputs": [
    {
     "data": {
      "text/plain": [
       "2.3"
      ]
     },
     "execution_count": 27,
     "metadata": {},
     "output_type": "execute_result"
    }
   ],
   "source": [
    "sub_2023['net_worth_billions'].median() # Check the median"
   ]
  },
  {
   "cell_type": "code",
   "execution_count": 28,
   "id": "382e6fdc",
   "metadata": {},
   "outputs": [
    {
     "data": {
      "text/plain": [
       "211.0"
      ]
     },
     "execution_count": 28,
     "metadata": {},
     "output_type": "execute_result"
    }
   ],
   "source": [
    "sub_2023['net_worth_billions'].max() # Check the max"
   ]
  },
  {
   "cell_type": "markdown",
   "id": "0faef8c6",
   "metadata": {},
   "source": [
    "# 4.3 Data prep for regression analysis"
   ]
  },
  {
   "cell_type": "code",
   "execution_count": 29,
   "id": "30591ed6",
   "metadata": {},
   "outputs": [
    {
     "data": {
      "image/png": "[encoded data removed]",
      "text/plain": [
       "<Figure size 640x480 with 1 Axes>"
      ]
     },
     "metadata": {},
     "output_type": "display_data"
    }
   ],
   "source": [
    "# Create a scatterplot using matplotlib for another look at how the chosen variables plot against each other.\n",
    "\n",
    "sub_2023.plot(x = 'age', y='net_worth_billions',style='o') # The style option creates a scatterplot; without it, we only have lines.\n",
    "plt.title('Age vs Net Worth')  \n",
    "plt.xlabel('age')  \n",
    "plt.ylabel('net_worth_billions')  \n",
    "plt.show()"
   ]
  },
  {
   "cell_type": "markdown",
   "id": "b7052ac7",
   "metadata": {},
   "source": [
    "#### Hypothesis: The older the person the higher the net worth"
   ]
  },
  {
   "cell_type": "code",
   "execution_count": 30,
   "id": "f5ef5765",
   "metadata": {},
   "outputs": [],
   "source": [
    "# Reshape the variables into NumPy arrays and put them into separate objects.\n",
    "\n",
    "X = sub_2023['age'].values.reshape(-1,1)\n",
    "y = sub_2023['net_worth_billions'].values.reshape(-1,1)"
   ]
  },
  {
   "cell_type": "code",
   "execution_count": 31,
   "id": "93c2aa64",
   "metadata": {},
   "outputs": [
    {
     "data": {
      "text/plain": [
       "array([[74.],\n",
       "       [51.],\n",
       "       [59.],\n",
       "       ...,\n",
       "       [60.],\n",
       "       [71.],\n",
       "       [66.]])"
      ]
     },
     "execution_count": 31,
     "metadata": {},
     "output_type": "execute_result"
    }
   ],
   "source": [
    "X"
   ]
  },
  {
   "cell_type": "code",
   "execution_count": 32,
   "id": "c5c3b8f5",
   "metadata": {},
   "outputs": [
    {
     "data": {
      "text/plain": [
       "array([[211.],\n",
       "       [180.],\n",
       "       [114.],\n",
       "       ...,\n",
       "       [  1.],\n",
       "       [  1.],\n",
       "       [  1.]])"
      ]
     },
     "execution_count": 32,
     "metadata": {},
     "output_type": "execute_result"
    }
   ],
   "source": [
    "y"
   ]
  },
  {
   "cell_type": "code",
   "execution_count": 33,
   "id": "7a0d9ff4",
   "metadata": {},
   "outputs": [],
   "source": [
    "# Split data into a training set and a test set.\n",
    "# 0.3 is specifying that the test set should comprise 30 percent of the data (thus making the training set 70 percent of the data).\n",
    "X_train, X_test, y_train, y_test = train_test_split(X, y, test_size=0.3, random_state=0)"
   ]
  },
  {
   "cell_type": "markdown",
   "id": "df1c0e02",
   "metadata": {},
   "source": [
    "# 4.4 Regression analysis"
   ]
  },
  {
   "cell_type": "code",
   "execution_count": 34,
   "id": "1df9f006",
   "metadata": {},
   "outputs": [],
   "source": [
    "# Create a regression object.\n",
    "regression = LinearRegression()  # This is the regression object, which will be fit onto the training set."
   ]
  },
  {
   "cell_type": "code",
   "execution_count": 35,
   "id": "e01ee8c2",
   "metadata": {},
   "outputs": [
    {
     "data": {
      "text/html": [
       "<style>#sk-container-id-1 {color: black;}#sk-container-id-1 pre{padding: 0;}#sk-container-id-1 div.sk-toggleable {background-color: white;}#sk-container-id-1 label.sk-toggleable__label {cursor: pointer;display: block;width: 100%;margin-bottom: 0;padding: 0.3em;box-sizing: border-box;text-align: center;}#sk-container-id-1 label.sk-toggleable__label-arrow:before {content: \"▸\";float: left;margin-right: 0.25em;color: #696969;}#sk-container-id-1 label.sk-toggleable__label-arrow:hover:before {color: black;}#sk-container-id-1 div.sk-estimator:hover label.sk-toggleable__label-arrow:before {color: black;}#sk-container-id-1 div.sk-toggleable__content {max-height: 0;max-width: 0;overflow: hidden;text-align: left;background-color: #f0f8ff;}#sk-container-id-1 div.sk-toggleable__content pre {margin: 0.2em;color: black;border-radius: 0.25em;background-color: #f0f8ff;}#sk-container-id-1 input.sk-toggleable__control:checked~div.sk-toggleable__content {max-height: 200px;max-width: 100%;overflow: auto;}#sk-container-id-1 input.sk-toggleable__control:checked~label.sk-toggleable__label-arrow:before {content: \"▾\";}#sk-container-id-1 div.sk-estimator input.sk-toggleable__control:checked~label.sk-toggleable__label {background-color: #d4ebff;}#sk-container-id-1 div.sk-label input.sk-toggleable__control:checked~label.sk-toggleable__label {background-color: #d4ebff;}#sk-container-id-1 input.sk-hidden--visually {border: 0;clip: rect(1px 1px 1px 1px);clip: rect(1px, 1px, 1px, 1px);height: 1px;margin: -1px;overflow: hidden;padding: 0;position: absolute;width: 1px;}#sk-container-id-1 div.sk-estimator {font-family: monospace;background-color: #f0f8ff;border: 1px dotted black;border-radius: 0.25em;box-sizing: border-box;margin-bottom: 0.5em;}#sk-container-id-1 div.sk-estimator:hover {background-color: #d4ebff;}#sk-container-id-1 div.sk-parallel-item::after {content: \"\";width: 100%;border-bottom: 1px solid gray;flex-grow: 1;}#sk-container-id-1 div.sk-label:hover label.sk-toggleable__label {background-color: #d4ebff;}#sk-container-id-1 div.sk-serial::before {content: \"\";position: absolute;border-left: 1px solid gray;box-sizing: border-box;top: 0;bottom: 0;left: 50%;z-index: 0;}#sk-container-id-1 div.sk-serial {display: flex;flex-direction: column;align-items: center;background-color: white;padding-right: 0.2em;padding-left: 0.2em;position: relative;}#sk-container-id-1 div.sk-item {position: relative;z-index: 1;}#sk-container-id-1 div.sk-parallel {display: flex;align-items: stretch;justify-content: center;background-color: white;position: relative;}#sk-container-id-1 div.sk-item::before, #sk-container-id-1 div.sk-parallel-item::before {content: \"\";position: absolute;border-left: 1px solid gray;box-sizing: border-box;top: 0;bottom: 0;left: 50%;z-index: -1;}#sk-container-id-1 div.sk-parallel-item {display: flex;flex-direction: column;z-index: 1;position: relative;background-color: white;}#sk-container-id-1 div.sk-parallel-item:first-child::after {align-self: flex-end;width: 50%;}#sk-container-id-1 div.sk-parallel-item:last-child::after {align-self: flex-start;width: 50%;}#sk-container-id-1 div.sk-parallel-item:only-child::after {width: 0;}#sk-container-id-1 div.sk-dashed-wrapped {border: 1px dashed gray;margin: 0 0.4em 0.5em 0.4em;box-sizing: border-box;padding-bottom: 0.4em;background-color: white;}#sk-container-id-1 div.sk-label label {font-family: monospace;font-weight: bold;display: inline-block;line-height: 1.2em;}#sk-container-id-1 div.sk-label-container {text-align: center;}#sk-container-id-1 div.sk-container {/* jupyter's `normalize.less` sets `[hidden] { display: none; }` but bootstrap.min.css set `[hidden] { display: none !important; }` so we also need the `!important` here to be able to override the default hidden behavior on the sphinx rendered scikit-learn.org. See: https://github.com/scikit-learn/scikit-learn/issues/21755 */display: inline-block !important;position: relative;}#sk-container-id-1 div.sk-text-repr-fallback {display: none;}</style><div id=\"sk-container-id-1\" class=\"sk-top-container\"><div class=\"sk-text-repr-fallback\"><pre>LinearRegression()</pre><b>In a Jupyter environment, please rerun this cell to show the HTML representation or trust the notebook. <br />On GitHub, the HTML representation is unable to render, please try loading this page with nbviewer.org.</b></div><div class=\"sk-container\" hidden><div class=\"sk-item\"><div class=\"sk-estimator sk-toggleable\"><input class=\"sk-toggleable__control sk-hidden--visually\" id=\"sk-estimator-id-1\" type=\"checkbox\" checked><label for=\"sk-estimator-id-1\" class=\"sk-toggleable__label sk-toggleable__label-arrow\">LinearRegression</label><div class=\"sk-toggleable__content\"><pre>LinearRegression()</pre></div></div></div></div></div>"
      ],
      "text/plain": [
       "LinearRegression()"
      ]
     },
     "execution_count": 35,
     "metadata": {},
     "output_type": "execute_result"
    }
   ],
   "source": [
    "# Fit the regression object onto the training set.\n",
    "regression.fit(X_train, y_train)"
   ]
  },
  {
   "cell_type": "code",
   "execution_count": 36,
   "id": "1e3f1b13",
   "metadata": {},
   "outputs": [],
   "source": [
    "# Predict the values of y using X.\n",
    "y_predicted = regression.predict(X_test)"
   ]
  },
  {
   "cell_type": "code",
   "execution_count": 37,
   "id": "9dbc8eea",
   "metadata": {},
   "outputs": [
    {
     "data": {
      "image/png": "[encoded data removed]",
      "text/plain": [
       "<Figure size 640x480 with 1 Axes>"
      ]
     },
     "metadata": {},
     "output_type": "display_data"
    }
   ],
   "source": [
    "# Create a plot that shows the regression line from the model on the test set.\n",
    "plot_test = plt\n",
    "plot_test.scatter(X_test, y_test, color='gray', s = 15)\n",
    "plot_test.plot(X_test, y_predicted, color='red', linewidth =3)\n",
    "plot_test.title('Age vs Net Worth (Test set)')\n",
    "plot_test.xlabel('Age')\n",
    "plot_test.ylabel('Net Worth in Billions')\n",
    "plot_test.show()"
   ]
  },
  {
   "cell_type": "code",
   "execution_count": 38,
   "id": "01a45ebe",
   "metadata": {},
   "outputs": [],
   "source": [
    "# Create objects that contain the model summary statistics.\n",
    "rmse = mean_squared_error(y_test, y_predicted) # This is the mean squared error\n",
    "r2 = r2_score(y_test, y_predicted) # This is the R2 score. "
   ]
  },
  {
   "cell_type": "code",
   "execution_count": 39,
   "id": "816d60c9",
   "metadata": {},
   "outputs": [
    {
     "name": "stdout",
     "output_type": "stream",
     "text": [
      "Slope: [[0.04694998]]\n",
      "Mean squared error:  125.97498122182316\n",
      "R2 score:  0.00303642901903034\n"
     ]
    }
   ],
   "source": [
    "# Print the model summary statistics. This is where you evaluate the performance of the model.\n",
    "print('Slope:' ,regression.coef_)\n",
    "print('Mean squared error: ', rmse)\n",
    "print('R2 score: ', r2)"
   ]
  },
  {
   "cell_type": "code",
   "execution_count": 40,
   "id": "75289dd7",
   "metadata": {},
   "outputs": [
    {
     "data": {
      "text/plain": [
       "array([[5.28319191],\n",
       "       [4.81369212],\n",
       "       [4.2033424 ],\n",
       "       [4.90759208],\n",
       "       [3.3112928 ],\n",
       "       [4.25029237],\n",
       "       [4.48504227],\n",
       "       [4.01554248],\n",
       "       [5.00149204],\n",
       "       [3.92164252],\n",
       "       [4.67284218],\n",
       "       [3.92164252],\n",
       "       [4.48504227],\n",
       "       [3.92164252],\n",
       "       [4.06249246],\n",
       "       [5.04844202],\n",
       "       [4.48504227],\n",
       "       [4.15639242],\n",
       "       [5.14234197],\n",
       "       [4.01554248],\n",
       "       [4.25029237],\n",
       "       [3.3112928 ],\n",
       "       [5.23624193],\n",
       "       [5.89354164],\n",
       "       [4.67284218],\n",
       "       [4.62589221],\n",
       "       [3.92164252],\n",
       "       [5.00149204],\n",
       "       [4.06249246],\n",
       "       [5.18929195],\n",
       "       [4.81369212],\n",
       "       [5.23624193],\n",
       "       [4.67284218],\n",
       "       [3.73384261],\n",
       "       [3.63994265],\n",
       "       [5.84659166],\n",
       "       [4.43809229],\n",
       "       [3.92164252],\n",
       "       [2.84179301],\n",
       "       [4.25029237],\n",
       "       [3.49909271],\n",
       "       [3.21739284],\n",
       "       [4.90759208],\n",
       "       [3.92164252],\n",
       "       [5.9874416 ],\n",
       "       [3.35824277],\n",
       "       [5.095392  ],\n",
       "       [4.2033424 ],\n",
       "       [4.48504227],\n",
       "       [5.095392  ],\n",
       "       [4.2033424 ],\n",
       "       [5.095392  ],\n",
       "       [3.92164252],\n",
       "       [4.34419233],\n",
       "       [5.00149204],\n",
       "       [4.62589221],\n",
       "       [5.00149204],\n",
       "       [5.28319191],\n",
       "       [3.87469254],\n",
       "       [4.2033424 ],\n",
       "       [5.65879174],\n",
       "       [3.78079259],\n",
       "       [4.76674214],\n",
       "       [5.70574172],\n",
       "       [4.29724235],\n",
       "       [5.04844202],\n",
       "       [5.42404185],\n",
       "       [5.04844202],\n",
       "       [4.90759208],\n",
       "       [5.04844202],\n",
       "       [4.62589221],\n",
       "       [3.92164252],\n",
       "       [4.90759208],\n",
       "       [3.78079259],\n",
       "       [4.48504227],\n",
       "       [4.48504227],\n",
       "       [4.2033424 ],\n",
       "       [4.01554248],\n",
       "       [4.57894223],\n",
       "       [5.70574172],\n",
       "       [4.81369212],\n",
       "       [4.15639242],\n",
       "       [4.01554248],\n",
       "       [3.82774256],\n",
       "       [3.92164252],\n",
       "       [4.95454206],\n",
       "       [4.06249246],\n",
       "       [5.28319191],\n",
       "       [5.04844202],\n",
       "       [4.39114231],\n",
       "       [3.35824277],\n",
       "       [5.42404185],\n",
       "       [4.25029237],\n",
       "       [3.82774256],\n",
       "       [4.53199225],\n",
       "       [4.39114231],\n",
       "       [4.62589221],\n",
       "       [4.34419233],\n",
       "       [4.48504227],\n",
       "       [4.29724235],\n",
       "       [5.14234197],\n",
       "       [5.23624193],\n",
       "       [4.2033424 ],\n",
       "       [4.8606421 ],\n",
       "       [4.43809229],\n",
       "       [3.82774256],\n",
       "       [4.76674214],\n",
       "       [4.8606421 ],\n",
       "       [3.78079259],\n",
       "       [4.2033424 ],\n",
       "       [3.9685925 ],\n",
       "       [3.68689263],\n",
       "       [5.47099183],\n",
       "       [3.92164252],\n",
       "       [4.10944244],\n",
       "       [4.81369212],\n",
       "       [4.81369212],\n",
       "       [4.53199225],\n",
       "       [5.18929195],\n",
       "       [4.06249246],\n",
       "       [5.00149204],\n",
       "       [5.56489178],\n",
       "       [4.8606421 ],\n",
       "       [4.29724235],\n",
       "       [4.53199225],\n",
       "       [4.25029237],\n",
       "       [4.8606421 ],\n",
       "       [4.48504227],\n",
       "       [5.23624193],\n",
       "       [5.18929195],\n",
       "       [5.095392  ],\n",
       "       [3.87469254],\n",
       "       [3.59299267],\n",
       "       [5.42404185],\n",
       "       [4.67284218],\n",
       "       [4.95454206],\n",
       "       [4.39114231],\n",
       "       [4.71979216],\n",
       "       [4.76674214],\n",
       "       [4.10944244],\n",
       "       [4.76674214],\n",
       "       [5.04844202],\n",
       "       [3.78079259],\n",
       "       [5.095392  ],\n",
       "       [4.2033424 ],\n",
       "       [3.59299267],\n",
       "       [4.2033424 ],\n",
       "       [4.53199225],\n",
       "       [3.68689263],\n",
       "       [4.10944244],\n",
       "       [4.62589221],\n",
       "       [4.62589221],\n",
       "       [5.14234197],\n",
       "       [4.71979216],\n",
       "       [4.57894223],\n",
       "       [4.25029237],\n",
       "       [4.06249246],\n",
       "       [3.73384261],\n",
       "       [4.15639242],\n",
       "       [4.62589221],\n",
       "       [4.95454206],\n",
       "       [4.71979216],\n",
       "       [4.81369212],\n",
       "       [5.18929195],\n",
       "       [5.70574172],\n",
       "       [4.2033424 ],\n",
       "       [3.3112928 ],\n",
       "       [4.25029237],\n",
       "       [4.2033424 ],\n",
       "       [5.23624193],\n",
       "       [3.9685925 ],\n",
       "       [4.95454206],\n",
       "       [5.84659166],\n",
       "       [4.25029237],\n",
       "       [4.48504227],\n",
       "       [5.095392  ],\n",
       "       [4.25029237],\n",
       "       [4.2033424 ],\n",
       "       [4.57894223],\n",
       "       [4.15639242],\n",
       "       [4.95454206],\n",
       "       [4.67284218],\n",
       "       [3.12349288],\n",
       "       [4.01554248],\n",
       "       [4.10944244],\n",
       "       [5.14234197],\n",
       "       [4.06249246],\n",
       "       [4.53199225],\n",
       "       [4.8606421 ],\n",
       "       [3.87469254],\n",
       "       [3.63994265],\n",
       "       [3.45214273],\n",
       "       [4.29724235],\n",
       "       [4.57894223],\n",
       "       [5.33014189],\n",
       "       [4.15639242],\n",
       "       [4.34419233],\n",
       "       [4.48504227],\n",
       "       [4.15639242],\n",
       "       [4.29724235],\n",
       "       [4.34419233],\n",
       "       [3.82774256],\n",
       "       [4.25029237],\n",
       "       [4.67284218],\n",
       "       [4.48504227],\n",
       "       [4.29724235],\n",
       "       [4.43809229],\n",
       "       [5.33014189],\n",
       "       [4.48504227],\n",
       "       [4.2033424 ],\n",
       "       [4.8606421 ],\n",
       "       [4.25029237],\n",
       "       [4.01554248],\n",
       "       [4.76674214],\n",
       "       [3.54604269],\n",
       "       [4.29724235],\n",
       "       [3.9685925 ],\n",
       "       [5.14234197],\n",
       "       [2.65399309],\n",
       "       [4.62589221],\n",
       "       [4.8606421 ],\n",
       "       [4.10944244],\n",
       "       [3.73384261],\n",
       "       [3.9685925 ],\n",
       "       [5.18929195],\n",
       "       [4.2033424 ],\n",
       "       [3.3112928 ],\n",
       "       [4.53199225],\n",
       "       [4.01554248],\n",
       "       [3.68689263],\n",
       "       [4.48504227],\n",
       "       [4.29724235],\n",
       "       [4.76674214],\n",
       "       [5.04844202],\n",
       "       [4.90759208],\n",
       "       [4.76674214],\n",
       "       [3.9685925 ],\n",
       "       [4.39114231],\n",
       "       [4.15639242],\n",
       "       [3.82774256],\n",
       "       [4.25029237],\n",
       "       [4.95454206],\n",
       "       [3.87469254],\n",
       "       [5.33014189],\n",
       "       [4.15639242],\n",
       "       [4.43809229],\n",
       "       [4.39114231],\n",
       "       [5.04844202],\n",
       "       [4.71979216],\n",
       "       [4.43809229],\n",
       "       [4.25029237],\n",
       "       [4.57894223],\n",
       "       [4.06249246],\n",
       "       [4.29724235],\n",
       "       [4.01554248],\n",
       "       [4.39114231],\n",
       "       [4.57894223],\n",
       "       [3.9685925 ],\n",
       "       [3.59299267],\n",
       "       [3.59299267],\n",
       "       [4.57894223],\n",
       "       [4.95454206],\n",
       "       [2.37229322],\n",
       "       [4.53199225],\n",
       "       [3.45214273],\n",
       "       [4.34419233],\n",
       "       [3.9685925 ],\n",
       "       [3.73384261],\n",
       "       [4.67284218],\n",
       "       [4.53199225],\n",
       "       [5.18929195],\n",
       "       [4.06249246],\n",
       "       [4.34419233],\n",
       "       [5.47099183],\n",
       "       [4.2033424 ],\n",
       "       [4.48504227],\n",
       "       [3.73384261],\n",
       "       [3.35824277],\n",
       "       [4.81369212],\n",
       "       [4.57894223],\n",
       "       [5.42404185],\n",
       "       [2.98264294],\n",
       "       [4.15639242],\n",
       "       [4.53199225],\n",
       "       [4.67284218],\n",
       "       [4.71979216],\n",
       "       [5.28319191],\n",
       "       [4.15639242],\n",
       "       [5.095392  ],\n",
       "       [5.23624193],\n",
       "       [4.25029237],\n",
       "       [5.04844202],\n",
       "       [4.90759208],\n",
       "       [4.01554248],\n",
       "       [4.95454206],\n",
       "       [4.10944244],\n",
       "       [4.01554248],\n",
       "       [5.42404185],\n",
       "       [4.2033424 ],\n",
       "       [3.87469254],\n",
       "       [5.61184176],\n",
       "       [3.92164252],\n",
       "       [4.34419233],\n",
       "       [4.25029237],\n",
       "       [5.14234197],\n",
       "       [4.01554248],\n",
       "       [4.53199225],\n",
       "       [3.49909271],\n",
       "       [4.62589221],\n",
       "       [3.9685925 ],\n",
       "       [5.04844202],\n",
       "       [3.73384261],\n",
       "       [5.51794181],\n",
       "       [4.43809229],\n",
       "       [3.92164252],\n",
       "       [4.48504227],\n",
       "       [4.01554248],\n",
       "       [3.92164252],\n",
       "       [3.59299267],\n",
       "       [3.92164252],\n",
       "       [3.87469254],\n",
       "       [5.65879174],\n",
       "       [3.87469254],\n",
       "       [3.45214273],\n",
       "       [5.095392  ],\n",
       "       [3.9685925 ],\n",
       "       [4.8606421 ],\n",
       "       [3.9685925 ],\n",
       "       [4.71979216],\n",
       "       [4.81369212],\n",
       "       [3.3112928 ],\n",
       "       [5.14234197],\n",
       "       [4.34419233],\n",
       "       [4.48504227],\n",
       "       [4.53199225],\n",
       "       [3.92164252],\n",
       "       [3.12349288],\n",
       "       [5.9874416 ],\n",
       "       [3.9685925 ],\n",
       "       [4.90759208],\n",
       "       [4.57894223],\n",
       "       [4.29724235],\n",
       "       [4.90759208],\n",
       "       [4.8606421 ],\n",
       "       [2.84179301],\n",
       "       [3.73384261],\n",
       "       [4.76674214],\n",
       "       [4.8606421 ],\n",
       "       [4.29724235],\n",
       "       [4.53199225],\n",
       "       [4.8606421 ],\n",
       "       [4.62589221],\n",
       "       [3.9685925 ],\n",
       "       [3.45214273],\n",
       "       [4.2033424 ],\n",
       "       [4.43809229],\n",
       "       [3.82774256],\n",
       "       [3.68689263],\n",
       "       [3.54604269],\n",
       "       [5.51794181],\n",
       "       [4.2033424 ],\n",
       "       [2.4192432 ],\n",
       "       [5.04844202],\n",
       "       [4.62589221],\n",
       "       [4.76674214],\n",
       "       [4.95454206],\n",
       "       [3.82774256],\n",
       "       [4.06249246],\n",
       "       [5.00149204],\n",
       "       [3.17044286],\n",
       "       [4.2033424 ],\n",
       "       [4.2033424 ],\n",
       "       [3.59299267],\n",
       "       [4.15639242],\n",
       "       [4.76674214],\n",
       "       [3.78079259],\n",
       "       [3.78079259],\n",
       "       [3.26434282],\n",
       "       [4.29724235],\n",
       "       [4.34419233],\n",
       "       [4.10944244],\n",
       "       [5.42404185],\n",
       "       [4.71979216],\n",
       "       [4.39114231],\n",
       "       [4.57894223],\n",
       "       [4.48504227],\n",
       "       [5.65879174],\n",
       "       [4.01554248],\n",
       "       [3.49909271],\n",
       "       [4.34419233],\n",
       "       [4.76674214],\n",
       "       [3.54604269],\n",
       "       [5.14234197],\n",
       "       [4.48504227],\n",
       "       [4.48504227],\n",
       "       [4.15639242],\n",
       "       [4.43809229],\n",
       "       [4.57894223],\n",
       "       [5.095392  ],\n",
       "       [4.62589221],\n",
       "       [3.59299267],\n",
       "       [5.65879174],\n",
       "       [3.45214273],\n",
       "       [3.35824277],\n",
       "       [4.53199225],\n",
       "       [4.8606421 ],\n",
       "       [3.49909271],\n",
       "       [3.3112928 ],\n",
       "       [4.01554248],\n",
       "       [3.87469254],\n",
       "       [5.18929195],\n",
       "       [3.73384261],\n",
       "       [5.56489178],\n",
       "       [4.62589221],\n",
       "       [5.04844202],\n",
       "       [5.89354164],\n",
       "       [4.39114231],\n",
       "       [4.48504227],\n",
       "       [3.49909271],\n",
       "       [4.81369212],\n",
       "       [5.28319191],\n",
       "       [3.73384261],\n",
       "       [4.39114231],\n",
       "       [4.48504227],\n",
       "       [4.01554248],\n",
       "       [4.34419233],\n",
       "       [4.06249246],\n",
       "       [4.8606421 ],\n",
       "       [5.095392  ],\n",
       "       [5.7526917 ],\n",
       "       [3.17044286],\n",
       "       [5.14234197],\n",
       "       [3.21739284],\n",
       "       [4.53199225],\n",
       "       [3.87469254],\n",
       "       [4.06249246],\n",
       "       [4.15639242],\n",
       "       [5.65879174],\n",
       "       [4.8606421 ],\n",
       "       [4.15639242],\n",
       "       [4.25029237],\n",
       "       [3.35824277],\n",
       "       [5.56489178],\n",
       "       [3.9685925 ],\n",
       "       [4.39114231],\n",
       "       [5.14234197],\n",
       "       [4.25029237],\n",
       "       [4.67284218],\n",
       "       [5.14234197],\n",
       "       [5.70574172],\n",
       "       [4.95454206],\n",
       "       [4.62589221],\n",
       "       [4.62589221],\n",
       "       [4.48504227],\n",
       "       [5.23624193],\n",
       "       [4.57894223],\n",
       "       [4.10944244],\n",
       "       [5.7526917 ],\n",
       "       [4.67284218],\n",
       "       [4.76674214],\n",
       "       [4.8606421 ],\n",
       "       [3.17044286],\n",
       "       [3.59299267],\n",
       "       [4.43809229],\n",
       "       [3.3112928 ],\n",
       "       [5.095392  ],\n",
       "       [5.51794181],\n",
       "       [4.71979216],\n",
       "       [4.48504227],\n",
       "       [5.56489178],\n",
       "       [4.2033424 ],\n",
       "       [4.48504227],\n",
       "       [5.04844202],\n",
       "       [4.62589221],\n",
       "       [3.45214273],\n",
       "       [5.00149204],\n",
       "       [3.73384261],\n",
       "       [4.53199225],\n",
       "       [4.95454206],\n",
       "       [4.06249246],\n",
       "       [4.90759208],\n",
       "       [4.48504227],\n",
       "       [5.23624193],\n",
       "       [5.23624193],\n",
       "       [4.10944244],\n",
       "       [4.48504227],\n",
       "       [4.01554248],\n",
       "       [4.57894223],\n",
       "       [4.06249246],\n",
       "       [5.51794181],\n",
       "       [4.67284218],\n",
       "       [4.71979216],\n",
       "       [4.57894223],\n",
       "       [4.06249246],\n",
       "       [3.35824277],\n",
       "       [5.095392  ],\n",
       "       [3.45214273],\n",
       "       [5.095392  ],\n",
       "       [3.78079259],\n",
       "       [5.65879174],\n",
       "       [4.39114231],\n",
       "       [5.00149204],\n",
       "       [5.04844202],\n",
       "       [4.39114231],\n",
       "       [4.48504227],\n",
       "       [3.59299267],\n",
       "       [3.92164252],\n",
       "       [6.08134155],\n",
       "       [6.03439157],\n",
       "       [4.29724235],\n",
       "       [4.2033424 ],\n",
       "       [4.01554248],\n",
       "       [4.53199225],\n",
       "       [4.57894223],\n",
       "       [5.23624193],\n",
       "       [4.95454206],\n",
       "       [4.95454206],\n",
       "       [4.43809229],\n",
       "       [5.04844202],\n",
       "       [4.34419233],\n",
       "       [5.23624193],\n",
       "       [3.92164252],\n",
       "       [4.53199225],\n",
       "       [4.90759208],\n",
       "       [4.81369212],\n",
       "       [3.26434282],\n",
       "       [4.62589221],\n",
       "       [4.48504227],\n",
       "       [4.48504227],\n",
       "       [4.71979216],\n",
       "       [4.39114231],\n",
       "       [3.73384261],\n",
       "       [4.25029237],\n",
       "       [4.29724235],\n",
       "       [5.14234197],\n",
       "       [4.01554248],\n",
       "       [3.82774256],\n",
       "       [4.2033424 ],\n",
       "       [3.78079259],\n",
       "       [4.67284218],\n",
       "       [4.34419233],\n",
       "       [4.25029237],\n",
       "       [4.06249246],\n",
       "       [4.53199225],\n",
       "       [4.53199225],\n",
       "       [3.12349288],\n",
       "       [4.29724235],\n",
       "       [3.21739284],\n",
       "       [3.78079259],\n",
       "       [4.39114231],\n",
       "       [3.26434282],\n",
       "       [4.71979216],\n",
       "       [4.48504227],\n",
       "       [5.79964168],\n",
       "       [4.01554248],\n",
       "       [3.45214273],\n",
       "       [4.48504227],\n",
       "       [5.00149204],\n",
       "       [5.70574172],\n",
       "       [4.10944244],\n",
       "       [4.39114231],\n",
       "       [3.9685925 ],\n",
       "       [4.25029237],\n",
       "       [4.06249246],\n",
       "       [4.01554248],\n",
       "       [4.39114231],\n",
       "       [5.42404185],\n",
       "       [3.54604269],\n",
       "       [4.39114231],\n",
       "       [4.53199225],\n",
       "       [5.095392  ],\n",
       "       [4.25029237],\n",
       "       [4.8606421 ],\n",
       "       [4.48504227],\n",
       "       [4.06249246],\n",
       "       [3.82774256],\n",
       "       [4.71979216],\n",
       "       [4.95454206],\n",
       "       [4.76674214],\n",
       "       [4.06249246],\n",
       "       [4.76674214],\n",
       "       [5.61184176],\n",
       "       [4.2033424 ],\n",
       "       [3.59299267],\n",
       "       [3.59299267],\n",
       "       [5.51794181],\n",
       "       [4.8606421 ],\n",
       "       [3.21739284],\n",
       "       [5.28319191],\n",
       "       [4.95454206],\n",
       "       [3.82774256],\n",
       "       [3.87469254],\n",
       "       [4.8606421 ],\n",
       "       [4.2033424 ],\n",
       "       [4.57894223],\n",
       "       [5.70574172],\n",
       "       [4.71979216],\n",
       "       [4.39114231],\n",
       "       [4.8606421 ],\n",
       "       [4.39114231],\n",
       "       [4.29724235],\n",
       "       [4.71979216],\n",
       "       [4.25029237],\n",
       "       [4.67284218],\n",
       "       [4.10944244],\n",
       "       [5.23624193],\n",
       "       [4.57894223],\n",
       "       [3.49909271],\n",
       "       [4.67284218],\n",
       "       [4.2033424 ],\n",
       "       [3.68689263],\n",
       "       [5.56489178],\n",
       "       [4.10944244],\n",
       "       [5.37709187],\n",
       "       [5.04844202],\n",
       "       [4.76674214],\n",
       "       [4.90759208],\n",
       "       [4.06249246],\n",
       "       [4.15639242],\n",
       "       [4.95454206],\n",
       "       [4.95454206],\n",
       "       [5.00149204],\n",
       "       [4.53199225],\n",
       "       [4.39114231],\n",
       "       [4.53199225],\n",
       "       [4.76674214],\n",
       "       [4.62589221],\n",
       "       [3.49909271],\n",
       "       [4.62589221],\n",
       "       [4.2033424 ],\n",
       "       [4.90759208],\n",
       "       [4.43809229],\n",
       "       [3.12349288],\n",
       "       [5.18929195],\n",
       "       [5.61184176],\n",
       "       [4.95454206],\n",
       "       [5.00149204],\n",
       "       [5.9874416 ],\n",
       "       [4.57894223],\n",
       "       [5.37709187],\n",
       "       [4.43809229],\n",
       "       [4.90759208],\n",
       "       [4.53199225],\n",
       "       [3.68689263],\n",
       "       [4.57894223],\n",
       "       [4.90759208],\n",
       "       [4.81369212],\n",
       "       [4.53199225],\n",
       "       [3.92164252],\n",
       "       [4.34419233],\n",
       "       [4.25029237],\n",
       "       [5.61184176],\n",
       "       [5.18929195],\n",
       "       [4.10944244],\n",
       "       [5.33014189],\n",
       "       [4.48504227],\n",
       "       [5.00149204],\n",
       "       [4.76674214],\n",
       "       [5.84659166],\n",
       "       [4.29724235],\n",
       "       [4.48504227],\n",
       "       [3.54604269],\n",
       "       [5.14234197],\n",
       "       [4.62589221],\n",
       "       [4.95454206],\n",
       "       [4.81369212],\n",
       "       [4.2033424 ],\n",
       "       [4.95454206],\n",
       "       [4.71979216],\n",
       "       [3.78079259],\n",
       "       [4.43809229],\n",
       "       [3.40519275],\n",
       "       [5.42404185],\n",
       "       [4.48504227],\n",
       "       [4.71979216],\n",
       "       [5.04844202],\n",
       "       [4.95454206],\n",
       "       [3.40519275],\n",
       "       [4.2033424 ],\n",
       "       [4.81369212],\n",
       "       [5.23624193],\n",
       "       [4.39114231],\n",
       "       [3.87469254],\n",
       "       [5.095392  ],\n",
       "       [3.59299267],\n",
       "       [3.59299267],\n",
       "       [4.8606421 ],\n",
       "       [4.90759208],\n",
       "       [3.9685925 ],\n",
       "       [4.53199225],\n",
       "       [5.79964168],\n",
       "       [4.71979216],\n",
       "       [4.25029237],\n",
       "       [3.73384261],\n",
       "       [4.25029237],\n",
       "       [4.81369212],\n",
       "       [4.90759208],\n",
       "       [4.43809229],\n",
       "       [5.47099183],\n",
       "       [3.82774256],\n",
       "       [3.35824277],\n",
       "       [5.51794181],\n",
       "       [4.67284218],\n",
       "       [5.04844202],\n",
       "       [5.00149204],\n",
       "       [4.76674214],\n",
       "       [4.29724235],\n",
       "       [4.15639242],\n",
       "       [5.33014189],\n",
       "       [3.9685925 ],\n",
       "       [3.82774256],\n",
       "       [3.54604269],\n",
       "       [4.43809229],\n",
       "       [4.10944244],\n",
       "       [3.73384261],\n",
       "       [4.2033424 ],\n",
       "       [4.39114231],\n",
       "       [4.48504227],\n",
       "       [3.35824277],\n",
       "       [4.48504227],\n",
       "       [3.92164252],\n",
       "       [3.9685925 ],\n",
       "       [4.2033424 ],\n",
       "       [5.84659166],\n",
       "       [5.33014189],\n",
       "       [4.57894223],\n",
       "       [4.34419233],\n",
       "       [4.2033424 ],\n",
       "       [4.62589221],\n",
       "       [4.67284218],\n",
       "       [5.28319191],\n",
       "       [4.06249246],\n",
       "       [5.095392  ],\n",
       "       [4.43809229],\n",
       "       [4.06249246],\n",
       "       [4.06249246],\n",
       "       [4.01554248],\n",
       "       [3.59299267],\n",
       "       [5.18929195],\n",
       "       [4.48504227],\n",
       "       [4.81369212],\n",
       "       [5.18929195],\n",
       "       [4.71979216],\n",
       "       [4.06249246],\n",
       "       [4.62589221],\n",
       "       [4.29724235],\n",
       "       [4.10944244],\n",
       "       [4.01554248],\n",
       "       [3.87469254],\n",
       "       [3.9685925 ],\n",
       "       [3.9685925 ],\n",
       "       [3.87469254],\n",
       "       [5.51794181],\n",
       "       [3.35824277],\n",
       "       [5.18929195],\n",
       "       [5.00149204],\n",
       "       [4.48504227],\n",
       "       [5.23624193],\n",
       "       [4.15639242],\n",
       "       [4.57894223],\n",
       "       [5.23624193],\n",
       "       [3.87469254],\n",
       "       [5.37709187],\n",
       "       [5.42404185],\n",
       "       [5.47099183],\n",
       "       [5.095392  ],\n",
       "       [4.67284218],\n",
       "       [4.62589221],\n",
       "       [5.00149204],\n",
       "       [4.90759208],\n",
       "       [3.87469254],\n",
       "       [4.01554248],\n",
       "       [5.00149204],\n",
       "       [4.53199225],\n",
       "       [4.71979216],\n",
       "       [4.06249246],\n",
       "       [5.42404185],\n",
       "       [4.01554248],\n",
       "       [4.29724235],\n",
       "       [3.92164252],\n",
       "       [4.76674214],\n",
       "       [5.42404185],\n",
       "       [4.43809229],\n",
       "       [3.87469254],\n",
       "       [4.06249246],\n",
       "       [5.095392  ],\n",
       "       [5.23624193],\n",
       "       [4.90759208],\n",
       "       [5.18929195],\n",
       "       [5.00149204],\n",
       "       [4.43809229],\n",
       "       [3.45214273]])"
      ]
     },
     "execution_count": 40,
     "metadata": {},
     "output_type": "execute_result"
    }
   ],
   "source": [
    "y_predicted"
   ]
  },
  {
   "cell_type": "code",
   "execution_count": 41,
   "id": "5629c945",
   "metadata": {},
   "outputs": [
    {
     "data": {
      "text/html": [
       "<div>\n",
       "<style scoped>\n",
       "    .dataframe tbody tr th:only-of-type {\n",
       "        vertical-align: middle;\n",
       "    }\n",
       "\n",
       "    .dataframe tbody tr th {\n",
       "        vertical-align: top;\n",
       "    }\n",
       "\n",
       "    .dataframe thead th {\n",
       "        text-align: right;\n",
       "    }\n",
       "</style>\n",
       "<table border=\"1\" class=\"dataframe\">\n",
       "  <thead>\n",
       "    <tr style=\"text-align: right;\">\n",
       "      <th></th>\n",
       "      <th>Actual</th>\n",
       "      <th>Predicted</th>\n",
       "    </tr>\n",
       "  </thead>\n",
       "  <tbody>\n",
       "    <tr>\n",
       "      <th>0</th>\n",
       "      <td>2.3</td>\n",
       "      <td>5.283192</td>\n",
       "    </tr>\n",
       "    <tr>\n",
       "      <th>1</th>\n",
       "      <td>2.2</td>\n",
       "      <td>4.813692</td>\n",
       "    </tr>\n",
       "    <tr>\n",
       "      <th>2</th>\n",
       "      <td>3.6</td>\n",
       "      <td>4.203342</td>\n",
       "    </tr>\n",
       "    <tr>\n",
       "      <th>3</th>\n",
       "      <td>3.1</td>\n",
       "      <td>4.907592</td>\n",
       "    </tr>\n",
       "    <tr>\n",
       "      <th>4</th>\n",
       "      <td>2.3</td>\n",
       "      <td>3.311293</td>\n",
       "    </tr>\n",
       "    <tr>\n",
       "      <th>5</th>\n",
       "      <td>1.2</td>\n",
       "      <td>4.250292</td>\n",
       "    </tr>\n",
       "    <tr>\n",
       "      <th>6</th>\n",
       "      <td>1.3</td>\n",
       "      <td>4.485042</td>\n",
       "    </tr>\n",
       "    <tr>\n",
       "      <th>7</th>\n",
       "      <td>4.1</td>\n",
       "      <td>4.015542</td>\n",
       "    </tr>\n",
       "    <tr>\n",
       "      <th>8</th>\n",
       "      <td>2.2</td>\n",
       "      <td>5.001492</td>\n",
       "    </tr>\n",
       "    <tr>\n",
       "      <th>9</th>\n",
       "      <td>1.4</td>\n",
       "      <td>3.921643</td>\n",
       "    </tr>\n",
       "    <tr>\n",
       "      <th>10</th>\n",
       "      <td>1.6</td>\n",
       "      <td>4.672842</td>\n",
       "    </tr>\n",
       "    <tr>\n",
       "      <th>11</th>\n",
       "      <td>1.0</td>\n",
       "      <td>3.921643</td>\n",
       "    </tr>\n",
       "    <tr>\n",
       "      <th>12</th>\n",
       "      <td>1.6</td>\n",
       "      <td>4.485042</td>\n",
       "    </tr>\n",
       "    <tr>\n",
       "      <th>13</th>\n",
       "      <td>3.1</td>\n",
       "      <td>3.921643</td>\n",
       "    </tr>\n",
       "    <tr>\n",
       "      <th>14</th>\n",
       "      <td>3.5</td>\n",
       "      <td>4.062492</td>\n",
       "    </tr>\n",
       "    <tr>\n",
       "      <th>15</th>\n",
       "      <td>2.0</td>\n",
       "      <td>5.048442</td>\n",
       "    </tr>\n",
       "    <tr>\n",
       "      <th>16</th>\n",
       "      <td>1.9</td>\n",
       "      <td>4.485042</td>\n",
       "    </tr>\n",
       "    <tr>\n",
       "      <th>17</th>\n",
       "      <td>5.4</td>\n",
       "      <td>4.156392</td>\n",
       "    </tr>\n",
       "    <tr>\n",
       "      <th>18</th>\n",
       "      <td>1.0</td>\n",
       "      <td>5.142342</td>\n",
       "    </tr>\n",
       "    <tr>\n",
       "      <th>19</th>\n",
       "      <td>3.4</td>\n",
       "      <td>4.015542</td>\n",
       "    </tr>\n",
       "    <tr>\n",
       "      <th>20</th>\n",
       "      <td>4.9</td>\n",
       "      <td>4.250292</td>\n",
       "    </tr>\n",
       "    <tr>\n",
       "      <th>21</th>\n",
       "      <td>1.5</td>\n",
       "      <td>3.311293</td>\n",
       "    </tr>\n",
       "    <tr>\n",
       "      <th>22</th>\n",
       "      <td>5.6</td>\n",
       "      <td>5.236242</td>\n",
       "    </tr>\n",
       "    <tr>\n",
       "      <th>23</th>\n",
       "      <td>2.6</td>\n",
       "      <td>5.893542</td>\n",
       "    </tr>\n",
       "    <tr>\n",
       "      <th>24</th>\n",
       "      <td>26.6</td>\n",
       "      <td>4.672842</td>\n",
       "    </tr>\n",
       "    <tr>\n",
       "      <th>25</th>\n",
       "      <td>1.8</td>\n",
       "      <td>4.625892</td>\n",
       "    </tr>\n",
       "    <tr>\n",
       "      <th>26</th>\n",
       "      <td>1.1</td>\n",
       "      <td>3.921643</td>\n",
       "    </tr>\n",
       "    <tr>\n",
       "      <th>27</th>\n",
       "      <td>5.7</td>\n",
       "      <td>5.001492</td>\n",
       "    </tr>\n",
       "    <tr>\n",
       "      <th>28</th>\n",
       "      <td>3.7</td>\n",
       "      <td>4.062492</td>\n",
       "    </tr>\n",
       "    <tr>\n",
       "      <th>29</th>\n",
       "      <td>5.5</td>\n",
       "      <td>5.189292</td>\n",
       "    </tr>\n",
       "  </tbody>\n",
       "</table>\n",
       "</div>"
      ],
      "text/plain": [
       "    Actual  Predicted\n",
       "0      2.3   5.283192\n",
       "1      2.2   4.813692\n",
       "2      3.6   4.203342\n",
       "3      3.1   4.907592\n",
       "4      2.3   3.311293\n",
       "5      1.2   4.250292\n",
       "6      1.3   4.485042\n",
       "7      4.1   4.015542\n",
       "8      2.2   5.001492\n",
       "9      1.4   3.921643\n",
       "10     1.6   4.672842\n",
       "11     1.0   3.921643\n",
       "12     1.6   4.485042\n",
       "13     3.1   3.921643\n",
       "14     3.5   4.062492\n",
       "15     2.0   5.048442\n",
       "16     1.9   4.485042\n",
       "17     5.4   4.156392\n",
       "18     1.0   5.142342\n",
       "19     3.4   4.015542\n",
       "20     4.9   4.250292\n",
       "21     1.5   3.311293\n",
       "22     5.6   5.236242\n",
       "23     2.6   5.893542\n",
       "24    26.6   4.672842\n",
       "25     1.8   4.625892\n",
       "26     1.1   3.921643\n",
       "27     5.7   5.001492\n",
       "28     3.7   4.062492\n",
       "29     5.5   5.189292"
      ]
     },
     "execution_count": 41,
     "metadata": {},
     "output_type": "execute_result"
    }
   ],
   "source": [
    "# Create a dataframe comparing the actual and predicted values of y.\n",
    "data = pd.DataFrame({'Actual': y_test.flatten(), 'Predicted': y_predicted.flatten()})\n",
    "data.head(30)"
   ]
  },
  {
   "cell_type": "markdown",
   "id": "b4d1207c",
   "metadata": {},
   "source": [
    "### Comments\n",
    "The slope is upward but not very steep. The statistics indicate 0.4. Which isn't very strong. \n",
    "The MSE is 125 which means the line is fairly close to the observations.\n",
    "And the R2 is 0.003, which is really close to zero. This sumed up with the table above, confirms the model isn't a good fit at all, and the relationship of variables isn't the best for this. "
   ]
  },
  {
   "cell_type": "markdown",
   "id": "1b1c218d",
   "metadata": {},
   "source": [
    "### Compare how the regression fits the training set"
   ]
  },
  {
   "cell_type": "code",
   "execution_count": 42,
   "id": "5b0321dc",
   "metadata": {},
   "outputs": [],
   "source": [
    "# Predict\n",
    "y_predicted_train = regression.predict(X_train) # This is predicting X_train!"
   ]
  },
  {
   "cell_type": "code",
   "execution_count": 43,
   "id": "608d0a03",
   "metadata": {},
   "outputs": [],
   "source": [
    "rmse = mean_squared_error(y_train, y_predicted_train)\n",
    "r2 = r2_score(y_train, y_predicted_train)"
   ]
  },
  {
   "cell_type": "code",
   "execution_count": 44,
   "id": "9336f259",
   "metadata": {},
   "outputs": [
    {
     "name": "stdout",
     "output_type": "stream",
     "text": [
      "Slope: [[0.04694998]]\n",
      "Mean squared error:  83.52869084454775\n",
      "R2 score:  0.0044779232215181874\n"
     ]
    }
   ],
   "source": [
    "print('Slope:' ,regression.coef_)\n",
    "print('Mean squared error: ', rmse)\n",
    "print('R2 score: ', r2)"
   ]
  },
  {
   "cell_type": "code",
   "execution_count": 45,
   "id": "faf6d587",
   "metadata": {},
   "outputs": [
    {
     "data": {
      "image/png": "[encoded data removed]",
      "text/plain": [
       "<Figure size 640x480 with 1 Axes>"
      ]
     },
     "metadata": {},
     "output_type": "display_data"
    }
   ],
   "source": [
    "# Visualizing the training set results.\n",
    "\n",
    "plot_test = plt\n",
    "plot_test.scatter(X_train, y_train, color='green', s = 15)\n",
    "plot_test.plot(X_train, y_predicted_train, color='red', linewidth =3)\n",
    "plot_test.title('Age vs Net Worth (Test set)')\n",
    "plot_test.xlabel('Age')\n",
    "plot_test.ylabel('Net Worth in Billions')\n",
    "plot_test.show()"
   ]
  },
  {
   "cell_type": "markdown",
   "id": "f57e4944",
   "metadata": {},
   "source": [
    "### Comment\n",
    "The MSE is lower in the training model but we still have the same values Slope.\n",
    "R2 is slightly better, meaning the model fits the training set slightly better than the test set. But the difference is really small. The values also confirm that the relationship isn’t purely linear."
   ]
  }
 ],
 "metadata": {
  "kernelspec": {
   "display_name": "Python 3 (ipykernel)",
   "language": "python",
   "name": "python3"
  },
  "language_info": {
   "codemirror_mode": {
    "name": "ipython",
    "version": 3
   },
   "file_extension": ".py",
   "mimetype": "text/x-python",
   "name": "python",
   "nbconvert_exporter": "python",
   "pygments_lexer": "ipython3",
   "version": "3.11.4"
  }
 },
 "nbformat": 4,
 "nbformat_minor": 5
}
